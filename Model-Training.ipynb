{
 "cells": [
  {
   "cell_type": "markdown",
   "id": "61c62b1f",
   "metadata": {},
   "source": [
    "# 🌿 Plant Disease Detection using Transfer Learning\n",
    "\n",
    "This notebook demonstrates how to classify plant leaf diseases using a pre-trained model (MobileNetV2) and TensorFlow's high-level APIs. The dataset is downloaded from Kaggle and organized using `image_dataset_from_directory`."
   ]
  },
  {
   "cell_type": "code",
   "id": "05659416",
   "metadata": {
    "jupyter": {
     "is_executing": true
    }
   },
   "source": [
    "!pip install -q kaggle tensorflow opencv-python-headless matplotlib seaborn"
   ],
   "outputs": [],
   "execution_count": null
  },
  {
   "cell_type": "markdown",
   "id": "74d45b53",
   "metadata": {},
   "source": [
    "## 🔑 Upload Kaggle API Key"
   ]
  },
  {
   "cell_type": "code",
   "execution_count": null,
   "id": "953eceb2",
   "metadata": {},
   "outputs": [],
   "source": [
    "from google.colab import files\n",
    "files.upload()  # Upload kaggle.json"
   ]
  },
  {
   "cell_type": "code",
   "execution_count": null,
   "id": "36d4a8b1",
   "metadata": {},
   "outputs": [],
   "source": [
    "!mkdir -p ~/.kaggle\n",
    "!cp kaggle.json ~/.kaggle/\n",
    "!chmod 600 ~/.kaggle/kaggle.json"
   ]
  },
  {
   "cell_type": "markdown",
   "id": "d82539b9",
   "metadata": {},
   "source": [
    "## 📦 Download PlantVillage Dataset"
   ]
  },
  {
   "cell_type": "code",
   "execution_count": null,
   "id": "3debd080",
   "metadata": {},
   "outputs": [],
   "source": [
    "!kaggle datasets download -d emmarex/plantdisease\n",
    "!unzip -q plantdisease.zip -d plant_dataset"
   ]
  },
  {
   "cell_type": "markdown",
   "id": "3182443f",
   "metadata": {},
   "source": [
    "## 🗂️ Prepare Image Dataset"
   ]
  },
  {
   "cell_type": "code",
   "execution_count": null,
   "id": "041cef79",
   "metadata": {},
   "outputs": [],
   "source": [
    "\n",
    "import tensorflow as tf\n",
    "from tensorflow.keras.preprocessing import image_dataset_from_directory\n",
    "\n",
    "data_dir = \"plant_dataset/PlantVillage\"\n",
    "batch_size = 32\n",
    "img_height = 180\n",
    "img_width = 180\n",
    "\n",
    "train_ds = image_dataset_from_directory(\n",
    "    data_dir,\n",
    "    validation_split=0.2,\n",
    "    subset=\"training\",\n",
    "    seed=123,\n",
    "    image_size=(img_height, img_width),\n",
    "    batch_size=batch_size)\n",
    "\n",
    "val_ds = image_dataset_from_directory(\n",
    "    data_dir,\n",
    "    validation_split=0.2,\n",
    "    subset=\"validation\",\n",
    "    seed=123,\n",
    "    image_size=(img_height, img_width),\n",
    "    batch_size=batch_size)\n",
    "\n",
    "class_names = train_ds.class_names\n",
    "print(\"Class names:\", class_names)\n"
   ]
  },
  {
   "cell_type": "markdown",
   "id": "d575cc14",
   "metadata": {},
   "source": [
    "## 🤖 Build Model Using MobileNetV2"
   ]
  },
  {
   "cell_type": "code",
   "execution_count": null,
   "id": "84ee5592",
   "metadata": {},
   "outputs": [],
   "source": [
    "\n",
    "from tensorflow.keras.applications import MobileNetV2\n",
    "from tensorflow.keras import layers, models\n",
    "\n",
    "base_model = MobileNetV2(input_shape=(180, 180, 3), include_top=False, weights='imagenet')\n",
    "base_model.trainable = False  # Freeze base\n",
    "\n",
    "model = models.Sequential([\n",
    "    base_model,\n",
    "    layers.GlobalAveragePooling2D(),\n",
    "    layers.Dense(128, activation='relu'),\n",
    "    layers.Dropout(0.3),\n",
    "    layers.Dense(len(class_names), activation='softmax')\n",
    "])\n",
    "\n",
    "model.compile(optimizer='adam',\n",
    "              loss='sparse_categorical_crossentropy',\n",
    "              metrics=['accuracy'])\n",
    "\n",
    "model.summary()\n"
   ]
  },
  {
   "cell_type": "markdown",
   "id": "d7768897",
   "metadata": {},
   "source": [
    "## 🏋️ Train the Model"
   ]
  },
  {
   "cell_type": "code",
   "execution_count": null,
   "id": "0da478a6",
   "metadata": {},
   "outputs": [],
   "source": [
    "\n",
    "epochs = 5\n",
    "history = model.fit(train_ds, validation_data=val_ds, epochs=epochs)\n"
   ]
  },
  {
   "cell_type": "markdown",
   "id": "b3275cff",
   "metadata": {},
   "source": [
    "## 📈 Visualize Accuracy and Loss"
   ]
  },
  {
   "cell_type": "code",
   "execution_count": null,
   "id": "89e38f9a",
   "metadata": {},
   "outputs": [],
   "source": [
    "\n",
    "import matplotlib.pyplot as plt\n",
    "\n",
    "acc = history.history['accuracy']\n",
    "val_acc = history.history['val_accuracy']\n",
    "loss = history.history['loss']\n",
    "val_loss = history.history['val_loss']\n",
    "\n",
    "epochs_range = range(epochs)\n",
    "\n",
    "plt.figure(figsize=(12, 6))\n",
    "plt.subplot(1, 2, 1)\n",
    "plt.plot(epochs_range, acc, label='Training Accuracy')\n",
    "plt.plot(epochs_range, val_acc, label='Validation Accuracy')\n",
    "plt.legend(loc='lower right')\n",
    "plt.title('Training and Validation Accuracy')\n",
    "\n",
    "plt.subplot(1, 2, 2)\n",
    "plt.plot(epochs_range, loss, label='Training Loss')\n",
    "plt.plot(epochs_range, val_loss, label='Validation Loss')\n",
    "plt.legend(loc='upper right')\n",
    "plt.title('Training and Validation Loss')\n",
    "plt.show()\n"
   ]
  }
 ],
 "metadata": {},
 "nbformat": 4,
 "nbformat_minor": 5
}
